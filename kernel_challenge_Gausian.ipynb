{
 "cells": [
  {
   "cell_type": "code",
   "execution_count": 47,
   "metadata": {
    "_cell_guid": "b1076dfc-b9ad-4769-8c92-a6c4dae69d19",
    "_uuid": "8f2839f25d086af736a60e9eeb907d3b93b6e0e5",
    "execution": {
     "iopub.execute_input": "2023-07-16T21:43:57.597144Z",
     "iopub.status.busy": "2023-07-16T21:43:57.596751Z",
     "iopub.status.idle": "2023-07-16T21:43:57.607144Z",
     "shell.execute_reply": "2023-07-16T21:43:57.606108Z",
     "shell.execute_reply.started": "2023-07-16T21:43:57.597111Z"
    }
   },
   "outputs": [],
   "source": [
    "# This Python 3 environment comes with many helpful analytics libraries installed\n",
    "# It is defined by the kaggle/python Docker image: https://github.com/kaggle/docker-python\n",
    "# For example, here's several helpful packages to load\n",
    "\n",
    "import numpy as np # linear algebra\n",
    "import pandas as pd # data processing, CSV file I/O (e.g. pd.read_csv)\n",
    "\n",
    "# Input data files are available in the read-only \"../input/\" directory\n",
    "# For example, running this (by clicking run or pressing Shift+Enter) will list all files under the input directory\n",
    "\n",
    "import os\n",
    "for dirname, _, filenames in os.walk('/kaggle/input'):\n",
    "    for filename in filenames:\n",
    "        print(os.path.join(dirname, filename))\n",
    "\n",
    "# You can write up to 20GB to the current directory (/kaggle/working/) that gets preserved as output when you create a version using \"Save & Run All\" \n",
    "# You can also write temporary files to /kaggle/temp/, but they won't be saved outside of the current session"
   ]
  },
  {
   "cell_type": "code",
   "execution_count": 48,
   "metadata": {
    "execution": {
     "iopub.execute_input": "2023-07-16T21:43:57.610452Z",
     "iopub.status.busy": "2023-07-16T21:43:57.609606Z",
     "iopub.status.idle": "2023-07-16T21:43:57.618771Z",
     "shell.execute_reply": "2023-07-16T21:43:57.617743Z",
     "shell.execute_reply.started": "2023-07-16T21:43:57.610411Z"
    }
   },
   "outputs": [
    {
     "name": "stdout",
     "output_type": "stream",
     "text": [
      "Requirement already satisfied: easy_dna in /Users/armandine/anaconda3/lib/python3.10/site-packages (0.3.4)\r\n",
      "Requirement already satisfied: pandas in /Users/armandine/anaconda3/lib/python3.10/site-packages (from easy_dna) (1.5.3)\r\n",
      "Requirement already satisfied: Biopython in /Users/armandine/anaconda3/lib/python3.10/site-packages (from easy_dna) (1.81)\r\n",
      "Requirement already satisfied: numpy in /Users/armandine/anaconda3/lib/python3.10/site-packages (from easy_dna) (1.23.5)\r\n",
      "Requirement already satisfied: flametree in /Users/armandine/anaconda3/lib/python3.10/site-packages (from easy_dna) (0.1.12)\r\n",
      "Requirement already satisfied: crazydoc in /Users/armandine/anaconda3/lib/python3.10/site-packages (from easy_dna) (0.1.6)\r\n",
      "Requirement already satisfied: snapgene-reader in /Users/armandine/anaconda3/lib/python3.10/site-packages (from easy_dna) (0.1.20)\r\n",
      "Requirement already satisfied: python-docx in /Users/armandine/anaconda3/lib/python3.10/site-packages (from crazydoc->easy_dna) (0.8.11)\r\n",
      "Requirement already satisfied: python-dateutil>=2.8.1 in /Users/armandine/anaconda3/lib/python3.10/site-packages (from pandas->easy_dna) (2.8.2)\r\n",
      "Requirement already satisfied: pytz>=2020.1 in /Users/armandine/anaconda3/lib/python3.10/site-packages (from pandas->easy_dna) (2022.7)\r\n",
      "Requirement already satisfied: html2text in /Users/armandine/anaconda3/lib/python3.10/site-packages (from snapgene-reader->easy_dna) (2020.1.16)\r\n",
      "Requirement already satisfied: xmltodict in /Users/armandine/anaconda3/lib/python3.10/site-packages (from snapgene-reader->easy_dna) (0.13.0)\r\n",
      "Requirement already satisfied: six>=1.5 in /Users/armandine/anaconda3/lib/python3.10/site-packages (from python-dateutil>=2.8.1->pandas->easy_dna) (1.16.0)\r\n",
      "Requirement already satisfied: lxml>=2.3.2 in /Users/armandine/anaconda3/lib/python3.10/site-packages (from python-docx->crazydoc->easy_dna) (4.9.1)\r\n"
     ]
    }
   ],
   "source": [
    "    # importation\n",
    "    import pandas as pd\n",
    "    !pip install easy_dna"
   ]
  },
  {
   "cell_type": "markdown",
   "metadata": {},
   "source": [
    "# Load the dataset"
   ]
  },
  {
   "cell_type": "code",
   "execution_count": 90,
   "metadata": {
    "execution": {
     "iopub.execute_input": "2023-07-16T21:43:57.620846Z",
     "iopub.status.busy": "2023-07-16T21:43:57.620473Z",
     "iopub.status.idle": "2023-07-16T21:43:57.963963Z",
     "shell.execute_reply": "2023-07-16T21:43:57.963034Z",
     "shell.execute_reply.started": "2023-07-16T21:43:57.620812Z"
    }
   },
   "outputs": [],
   "source": [
    "Xtr0 = pd.read_csv(\"./data/Xtr0.csv\", sep=\",\", index_col=0)\n",
    "Xtr1 = pd.read_csv(\"./data/Xtr1.csv\", sep=\",\", index_col=0).values\n",
    "Xtr2 = pd.read_csv(\"./data/Xtr2.csv\", sep=\",\", index_col=0).values\n",
    "\n",
    "# shape (2000,100): float\n",
    "Xtr0_mat100 = pd.read_csv(\"./data/Xtr0_mat100.csv\", sep=\" \", header=None).values\n",
    "Xtr1_mat100 = pd.read_csv(\"./data/Xtr1_mat100.csv\", sep=\" \", header=None).values\n",
    "Xtr2_mat100 = pd.read_csv(\"./data/Xtr2_mat100.csv\", sep=\" \", header=None).values\n",
    "\n",
    "# shape (2000,1): string\n",
    "Xte0 = pd.read_csv(\"./data/Xte0.csv\", sep=\",\", index_col=0).values\n",
    "Xte1 = pd.read_csv(\"./data/Xte1.csv\", sep=\",\", index_col=0).values\n",
    "Xte2 = pd.read_csv(\"./data/Xte2.csv\", sep=\",\", index_col=0).values\n",
    "\n",
    "# shape (2000,100): float\n",
    "Xte0_mat100 = pd.read_csv(\"./data/Xte0_mat100.csv\", sep=\" \", header=None).values\n",
    "Xte1_mat100 = pd.read_csv(\"./data/Xte1_mat100.csv\", sep=\" \", header=None).values\n",
    "Xte2_mat100 = pd.read_csv(\"./data/Xte2_mat100.csv\", sep=\" \", header=None).values\n",
    "\n",
    "# shape (2000,1): 0 or 1\n",
    "Ytr0 = pd.read_csv(\"./data/Ytr0.csv\", sep=\",\", index_col=0).values\n",
    "Ytr1 = pd.read_csv(\"./data/Ytr1.csv\", sep=\",\", index_col=0).values\n",
    "Ytr2 = pd.read_csv(\"./data/Ytr2.csv\", sep=\",\", index_col=0).values\n",
    "\n",
    "#let us print the sequence 929\n",
    "\n",
    "#print(f\" the sequence 929 has a length of  {length} \" )\n",
    "\n",
    "#Rescaling labels\n",
    "Ytr0 = np.where(Ytr0 == 0, -1, 1)\n",
    "Ytr1 = np.where(Ytr1 == 0, -1, 1)\n",
    "Ytr2 = np.where(Ytr2 == 0, -1, 1)\n"
   ]
  },
  {
   "cell_type": "code",
   "execution_count": 91,
   "metadata": {},
   "outputs": [
    {
     "data": {
      "text/html": [
       "<div>\n",
       "<style scoped>\n",
       "    .dataframe tbody tr th:only-of-type {\n",
       "        vertical-align: middle;\n",
       "    }\n",
       "\n",
       "    .dataframe tbody tr th {\n",
       "        vertical-align: top;\n",
       "    }\n",
       "\n",
       "    .dataframe thead th {\n",
       "        text-align: right;\n",
       "    }\n",
       "</style>\n",
       "<table border=\"1\" class=\"dataframe\">\n",
       "  <thead>\n",
       "    <tr style=\"text-align: right;\">\n",
       "      <th></th>\n",
       "      <th>seq</th>\n",
       "    </tr>\n",
       "    <tr>\n",
       "      <th>Id</th>\n",
       "      <th></th>\n",
       "    </tr>\n",
       "  </thead>\n",
       "  <tbody>\n",
       "    <tr>\n",
       "      <th>0</th>\n",
       "      <td>TCCTGTGCACATCTGCACCCCTGTTGTGGCCACAAAATGATCCGGC...</td>\n",
       "    </tr>\n",
       "    <tr>\n",
       "      <th>1</th>\n",
       "      <td>TTAAGTGTATATCTAATAATTTTTTTGCCTACATTCCTGTGTTACC...</td>\n",
       "    </tr>\n",
       "    <tr>\n",
       "      <th>2</th>\n",
       "      <td>GTGCTCAATTAGTTGCCTACAAATAGTAGCCTGGCACAGTGTAAGC...</td>\n",
       "    </tr>\n",
       "    <tr>\n",
       "      <th>3</th>\n",
       "      <td>CACCTGGAAAATACAAACAGGCGCAAGAAGAGTTAACCCACAGATC...</td>\n",
       "    </tr>\n",
       "    <tr>\n",
       "      <th>4</th>\n",
       "      <td>AAATCACTGCCTATCCTTGGGCCAAAAGGTTTCTACAGGAAGCTGC...</td>\n",
       "    </tr>\n",
       "  </tbody>\n",
       "</table>\n",
       "</div>"
      ],
      "text/plain": [
       "                                                  seq\n",
       "Id                                                   \n",
       "0   TCCTGTGCACATCTGCACCCCTGTTGTGGCCACAAAATGATCCGGC...\n",
       "1   TTAAGTGTATATCTAATAATTTTTTTGCCTACATTCCTGTGTTACC...\n",
       "2   GTGCTCAATTAGTTGCCTACAAATAGTAGCCTGGCACAGTGTAAGC...\n",
       "3   CACCTGGAAAATACAAACAGGCGCAAGAAGAGTTAACCCACAGATC...\n",
       "4   AAATCACTGCCTATCCTTGGGCCAAAAGGTTTCTACAGGAAGCTGC..."
      ]
     },
     "execution_count": 91,
     "metadata": {},
     "output_type": "execute_result"
    }
   ],
   "source": [
    "Xtr0.head()"
   ]
  },
  {
   "cell_type": "code",
   "execution_count": 92,
   "metadata": {},
   "outputs": [
    {
     "name": "stdout",
     "output_type": "stream",
     "text": [
      "<class 'pandas.core.frame.DataFrame'>\n",
      "Int64Index: 2000 entries, 0 to 1999\n",
      "Data columns (total 1 columns):\n",
      " #   Column  Non-Null Count  Dtype \n",
      "---  ------  --------------  ----- \n",
      " 0   seq     2000 non-null   object\n",
      "dtypes: object(1)\n",
      "memory usage: 31.2+ KB\n"
     ]
    }
   ],
   "source": [
    "#Xtr0.iloc[0]['seq']\n",
    "Xtr0.info()"
   ]
  },
  {
   "cell_type": "code",
   "execution_count": 93,
   "metadata": {},
   "outputs": [
    {
     "data": {
      "text/html": [
       "<div>\n",
       "<style scoped>\n",
       "    .dataframe tbody tr th:only-of-type {\n",
       "        vertical-align: middle;\n",
       "    }\n",
       "\n",
       "    .dataframe tbody tr th {\n",
       "        vertical-align: top;\n",
       "    }\n",
       "\n",
       "    .dataframe thead th {\n",
       "        text-align: right;\n",
       "    }\n",
       "</style>\n",
       "<table border=\"1\" class=\"dataframe\">\n",
       "  <thead>\n",
       "    <tr style=\"text-align: right;\">\n",
       "      <th></th>\n",
       "      <th>seq</th>\n",
       "    </tr>\n",
       "  </thead>\n",
       "  <tbody>\n",
       "    <tr>\n",
       "      <th>count</th>\n",
       "      <td>2000</td>\n",
       "    </tr>\n",
       "    <tr>\n",
       "      <th>unique</th>\n",
       "      <td>2000</td>\n",
       "    </tr>\n",
       "    <tr>\n",
       "      <th>top</th>\n",
       "      <td>TCCTGTGCACATCTGCACCCCTGTTGTGGCCACAAAATGATCCGGC...</td>\n",
       "    </tr>\n",
       "    <tr>\n",
       "      <th>freq</th>\n",
       "      <td>1</td>\n",
       "    </tr>\n",
       "  </tbody>\n",
       "</table>\n",
       "</div>"
      ],
      "text/plain": [
       "                                                      seq\n",
       "count                                                2000\n",
       "unique                                               2000\n",
       "top     TCCTGTGCACATCTGCACCCCTGTTGTGGCCACAAAATGATCCGGC...\n",
       "freq                                                    1"
      ]
     },
     "execution_count": 93,
     "metadata": {},
     "output_type": "execute_result"
    }
   ],
   "source": [
    "Xtr0.describe()"
   ]
  },
  {
   "cell_type": "markdown",
   "metadata": {},
   "source": [
    "# Dna preprocessing"
   ]
  },
  {
   "cell_type": "code",
   "execution_count": 94,
   "metadata": {},
   "outputs": [
    {
     "data": {
      "text/html": [
       "<div>\n",
       "<style scoped>\n",
       "    .dataframe tbody tr th:only-of-type {\n",
       "        vertical-align: middle;\n",
       "    }\n",
       "\n",
       "    .dataframe tbody tr th {\n",
       "        vertical-align: top;\n",
       "    }\n",
       "\n",
       "    .dataframe thead th {\n",
       "        text-align: right;\n",
       "    }\n",
       "</style>\n",
       "<table border=\"1\" class=\"dataframe\">\n",
       "  <thead>\n",
       "    <tr style=\"text-align: right;\">\n",
       "      <th></th>\n",
       "      <th>words</th>\n",
       "    </tr>\n",
       "    <tr>\n",
       "      <th>Id</th>\n",
       "      <th></th>\n",
       "    </tr>\n",
       "  </thead>\n",
       "  <tbody>\n",
       "    <tr>\n",
       "      <th>0</th>\n",
       "      <td>[t, c, c, t, g, t, g, c, a, c, a, t, c, t, g, ...</td>\n",
       "    </tr>\n",
       "    <tr>\n",
       "      <th>1</th>\n",
       "      <td>[t, t, a, a, g, t, g, t, a, t, a, t, c, t, a, ...</td>\n",
       "    </tr>\n",
       "    <tr>\n",
       "      <th>2</th>\n",
       "      <td>[g, t, g, c, t, c, a, a, t, t, a, g, t, t, g, ...</td>\n",
       "    </tr>\n",
       "    <tr>\n",
       "      <th>3</th>\n",
       "      <td>[c, a, c, c, t, g, g, a, a, a, a, t, a, c, a, ...</td>\n",
       "    </tr>\n",
       "    <tr>\n",
       "      <th>4</th>\n",
       "      <td>[a, a, a, t, c, a, c, t, g, c, c, t, a, t, c, ...</td>\n",
       "    </tr>\n",
       "  </tbody>\n",
       "</table>\n",
       "</div>"
      ],
      "text/plain": [
       "                                                words\n",
       "Id                                                   \n",
       "0   [t, c, c, t, g, t, g, c, a, c, a, t, c, t, g, ...\n",
       "1   [t, t, a, a, g, t, g, t, a, t, a, t, c, t, a, ...\n",
       "2   [g, t, g, c, t, c, a, a, t, t, a, g, t, t, g, ...\n",
       "3   [c, a, c, c, t, g, g, a, a, a, a, t, a, c, a, ...\n",
       "4   [a, a, a, t, c, a, c, t, g, c, c, t, a, t, c, ..."
      ]
     },
     "execution_count": 94,
     "metadata": {},
     "output_type": "execute_result"
    }
   ],
   "source": [
    "#   link for : https://www.theaidream.com/post/demystify-dna-sequencing-with-machine-learning-and-python\n",
    "\n",
    "def Kmers_funct(seq, size=1):\n",
    "   return [seq[x:x+size].lower() for x in range(len(seq) - size + 1)]\n",
    "#convert our training data sequences into short overlapping k-mers of length 6. Lets do that for each species of data we have using our Kmers_funct function.\n",
    "\n",
    "Xtr0['words'] = Xtr0.apply(lambda x: Kmers_funct(x.loc['seq']), axis=1)\n",
    "Xtr0 = Xtr0.drop('seq', axis=1)\n",
    "Xtr0.head()\n"
   ]
  },
  {
   "cell_type": "code",
   "execution_count": 97,
   "metadata": {},
   "outputs": [
    {
     "data": {
      "text/html": [
       "<div>\n",
       "<style scoped>\n",
       "    .dataframe tbody tr th:only-of-type {\n",
       "        vertical-align: middle;\n",
       "    }\n",
       "\n",
       "    .dataframe tbody tr th {\n",
       "        vertical-align: top;\n",
       "    }\n",
       "\n",
       "    .dataframe thead th {\n",
       "        text-align: right;\n",
       "    }\n",
       "</style>\n",
       "<table border=\"1\" class=\"dataframe\">\n",
       "  <thead>\n",
       "    <tr style=\"text-align: right;\">\n",
       "      <th></th>\n",
       "      <th>words</th>\n",
       "    </tr>\n",
       "  </thead>\n",
       "  <tbody>\n",
       "    <tr>\n",
       "      <th>count</th>\n",
       "      <td>2000</td>\n",
       "    </tr>\n",
       "    <tr>\n",
       "      <th>unique</th>\n",
       "      <td>2000</td>\n",
       "    </tr>\n",
       "    <tr>\n",
       "      <th>top</th>\n",
       "      <td>[t, c, c, t, g, t, g, c, a, c, a, t, c, t, g, ...</td>\n",
       "    </tr>\n",
       "    <tr>\n",
       "      <th>freq</th>\n",
       "      <td>1</td>\n",
       "    </tr>\n",
       "  </tbody>\n",
       "</table>\n",
       "</div>"
      ],
      "text/plain": [
       "                                                    words\n",
       "count                                                2000\n",
       "unique                                               2000\n",
       "top     [t, c, c, t, g, t, g, c, a, c, a, t, c, t, g, ...\n",
       "freq                                                    1"
      ]
     },
     "execution_count": 97,
     "metadata": {},
     "output_type": "execute_result"
    }
   ],
   "source": [
    "\n",
    "\n",
    "#transpose the DataFrame\n",
    "Xtr0 = Xtr0.transpose()\n",
    "Xtr0.describe()"
   ]
  },
  {
   "cell_type": "code",
   "execution_count": 53,
   "metadata": {},
   "outputs": [
    {
     "data": {
      "text/plain": [
       "'cctgtgcacatc'"
      ]
     },
     "execution_count": 53,
     "metadata": {},
     "output_type": "execute_result"
    }
   ],
   "source": [
    "#We need to now convert the lists of k-mers for each gene into string sentences of words that can be used to create the Bag of Words model. We will make a target variable y to hold the class labels.\n",
    "\n",
    "'''''\n",
    "human_texts = list(Xtr0['words'])\n",
    "for item in range(len(human_texts)):\n",
    "   human_texts[item] = ' '.join(human_texts[item])\n",
    "human_texts\n",
    "X=[]\n",
    "for i in range (len(human_texts)):\n",
    "    X.append(human_texts[i].split())\n",
    "X[0][1]\n",
    ",,,,"
   ]
  },
  {
   "cell_type": "code",
   "execution_count": 54,
   "metadata": {},
   "outputs": [
    {
     "name": "stdout",
     "output_type": "stream",
     "text": [
      "Requirement already satisfied: nltk in /Users/armandine/anaconda3/lib/python3.10/site-packages (3.7)\n",
      "Requirement already satisfied: click in /Users/armandine/anaconda3/lib/python3.10/site-packages (from nltk) (8.0.4)\n",
      "Requirement already satisfied: regex>=2021.8.3 in /Users/armandine/anaconda3/lib/python3.10/site-packages (from nltk) (2022.7.9)\n",
      "Requirement already satisfied: joblib in /Users/armandine/anaconda3/lib/python3.10/site-packages (from nltk) (1.1.1)\n",
      "Requirement already satisfied: tqdm in /Users/armandine/anaconda3/lib/python3.10/site-packages (from nltk) (4.64.1)\n",
      "Requirement already satisfied: gensim in /Users/armandine/anaconda3/lib/python3.10/site-packages (4.3.0)\n",
      "Requirement already satisfied: FuzzyTM>=0.4.0 in /Users/armandine/anaconda3/lib/python3.10/site-packages (from gensim) (2.0.5)\n",
      "Requirement already satisfied: scipy>=1.7.0 in /Users/armandine/anaconda3/lib/python3.10/site-packages (from gensim) (1.10.0)\n",
      "Requirement already satisfied: smart-open>=1.8.1 in /Users/armandine/anaconda3/lib/python3.10/site-packages (from gensim) (5.2.1)\n",
      "Requirement already satisfied: numpy>=1.18.5 in /Users/armandine/anaconda3/lib/python3.10/site-packages (from gensim) (1.23.5)\n",
      "Requirement already satisfied: pyfume in /Users/armandine/anaconda3/lib/python3.10/site-packages (from FuzzyTM>=0.4.0->gensim) (0.2.25)\n",
      "Requirement already satisfied: pandas in /Users/armandine/anaconda3/lib/python3.10/site-packages (from FuzzyTM>=0.4.0->gensim) (1.5.3)\n",
      "Requirement already satisfied: python-dateutil>=2.8.1 in /Users/armandine/anaconda3/lib/python3.10/site-packages (from pandas->FuzzyTM>=0.4.0->gensim) (2.8.2)\n",
      "Requirement already satisfied: pytz>=2020.1 in /Users/armandine/anaconda3/lib/python3.10/site-packages (from pandas->FuzzyTM>=0.4.0->gensim) (2022.7)\n",
      "Requirement already satisfied: simpful in /Users/armandine/anaconda3/lib/python3.10/site-packages (from pyfume->FuzzyTM>=0.4.0->gensim) (2.11.0)\n",
      "Requirement already satisfied: fst-pso in /Users/armandine/anaconda3/lib/python3.10/site-packages (from pyfume->FuzzyTM>=0.4.0->gensim) (1.8.1)\n",
      "Requirement already satisfied: six>=1.5 in /Users/armandine/anaconda3/lib/python3.10/site-packages (from python-dateutil>=2.8.1->pandas->FuzzyTM>=0.4.0->gensim) (1.16.0)\n",
      "Requirement already satisfied: miniful in /Users/armandine/anaconda3/lib/python3.10/site-packages (from fst-pso->pyfume->FuzzyTM>=0.4.0->gensim) (0.0.6)\n"
     ]
    }
   ],
   "source": [
    "# word2vec\n",
    "\n",
    "!pip install nltk\n",
    "!pip install gensim"
   ]
  },
  {
   "cell_type": "code",
   "execution_count": 55,
   "metadata": {},
   "outputs": [
    {
     "name": "stdout",
     "output_type": "stream",
     "text": [
      "90\n"
     ]
    },
    {
     "data": {
      "text/plain": [
       "(2000, 9000)"
      ]
     },
     "execution_count": 55,
     "metadata": {},
     "output_type": "execute_result"
    }
   ],
   "source": [
    "import gensim\n",
    "from gensim.models import Word2Vec\n",
    "model_word_2vec = Word2Vec(X,vector_size =100, min_count = 1)\n",
    "#print(model_word_2vec.wv(X[0][1]))\n",
    "print(len(X[0]))\n",
    "X_embd=np.zeros((len(X),len(X[0]*100)))\n",
    "for i in range(len(X)):\n",
    "    for j in range(len(X[0])):\n",
    "        word=X[i][j]\n",
    "        \n",
    "        X_embd[i,j:j+100]=np.array(model_word_2vec.wv[word])\n",
    "    \n",
    "    \n",
    "        \n",
    "X_embd.shape        "
   ]
  },
  {
   "cell_type": "code",
   "execution_count": 56,
   "metadata": {},
   "outputs": [],
   "source": [
    "#Convert our k-mer words into uniform length numerical vectors that represent counts for every k-mer in the vocabulary:\n",
    "#from sklearn.feature_extraction.text import CountVectorizer\n",
    "#cv = CountVectorizer() #The n-gram size of 4 is previously determined by testing\n",
    "#X = cv.fit_transform(human_texts)\n",
    "#X=X.toarray()\n",
    "#print(X)\n",
    "#print(cv.get_feature_names_out)"
   ]
  },
  {
   "cell_type": "markdown",
   "metadata": {},
   "source": [
    "A transcription is a process of making a copy of an gene DNA sequence .this copy is called mRNA(messager RNA).\n",
    "This  project is a sequence classification task, predicting weather a DNA sequence is binding to a specific transcritor fator."
   ]
  },
  {
   "cell_type": "markdown",
   "metadata": {},
   "source": [
    "some Kernels implementation\n",
    "-here we will implement some kernels like linear kernels,\n",
    "gaussian kernels"
   ]
  },
  {
   "cell_type": "code",
   "execution_count": 57,
   "metadata": {
    "execution": {
     "iopub.execute_input": "2023-07-16T21:43:57.965675Z",
     "iopub.status.busy": "2023-07-16T21:43:57.965334Z",
     "iopub.status.idle": "2023-07-16T21:43:57.973858Z",
     "shell.execute_reply": "2023-07-16T21:43:57.972618Z",
     "shell.execute_reply.started": "2023-07-16T21:43:57.965642Z"
    }
   },
   "outputs": [],
   "source": [
    "class Kernel():\n",
    "    def __init__(self):\n",
    "        pass\n",
    "\n",
    "    def similarity(self, x, y, **kwargs):\n",
    "        \"\"\" Similarity between 2 feature vectors (depends on the type of kernel)\"\"\"\n",
    "        return -1\n",
    "\n",
    "    def gram_matrix(self, X1, X2,**kwargs):\n",
    "        \"\"\" Compute the gram matrix of a data vector X where the (i,j) entry is defined as <Xi,Xj>\\\\\n",
    "        X1: data vector (n_samples_1 x n_features)\n",
    "        X2: data vector (n_samples_2 x n_features), if None compute the gram matrix for (X1,X1)\n",
    "        \"\"\"\n",
    "        if X2 is None: \n",
    "            X2=X1\n",
    "        n_samples_1 = X1.shape[0]\n",
    "        n_samples_2 = X2.shape[0]\n",
    "        K = np.zeros((n_samples_1, n_samples_2))\n",
    "        for i in range(n_samples_1):\n",
    "            for j in range(n_samples_2):\n",
    "                K[i,j] = self.similarity(X1[i],X2[j],**kwargs)\n",
    "        return K\n",
    "\n",
    "    \n"
   ]
  },
  {
   "cell_type": "code",
   "execution_count": 58,
   "metadata": {
    "execution": {
     "iopub.execute_input": "2023-07-16T21:43:57.978477Z",
     "iopub.status.busy": "2023-07-16T21:43:57.977585Z",
     "iopub.status.idle": "2023-07-16T21:43:57.987526Z",
     "shell.execute_reply": "2023-07-16T21:43:57.986492Z",
     "shell.execute_reply.started": "2023-07-16T21:43:57.978442Z"
    }
   },
   "outputs": [],
   "source": [
    "class LinearKernels(Kernel):\n",
    "    def __init():\n",
    "        super().__init__()\n",
    "    \n",
    "    def similarity(self,X1,X2,**kwargs):\n",
    "        \n",
    "        return X1.T@X2\n",
    "    \n",
    "    \n",
    "    \n",
    " "
   ]
  },
  {
   "cell_type": "code",
   "execution_count": 59,
   "metadata": {},
   "outputs": [],
   "source": [
    "class GaussianKernel(Kernel):\n",
    "\n",
    "    def __init__(self):\n",
    "        super().__init__()\n",
    "        \n",
    "\n",
    "    def similarity(self, x, y,**kwargs):\n",
    "        \"\"\" gaussian kernel : k(x,y) = 1/ sqrt(2 pi sigma2)^n * exp( - ||x-y||^2 / 2 sigma^2 )\\\\\n",
    "        x, y: array (n_features,)\n",
    "        \"\"\"\n",
    "        sigma=kwargs.get('sigma')\n",
    "        normalize=kwargs.get('normalize')\n",
    "        \n",
    "        if normalize:\n",
    "            norm_fact = (np.sqrt(2 * np.pi) * sigma) ** len(x)\n",
    "            return np.exp(-np.linalg.norm(x-y)**2 / (2 *sigma**2)) / norm_fact\n",
    "        else:\n",
    "            return np.exp(-np.linalg.norm(x-y)**2 / (2 * sigma**2))\n",
    "\n"
   ]
  },
  {
   "cell_type": "code",
   "execution_count": 60,
   "metadata": {
    "execution": {
     "iopub.execute_input": "2023-07-16T21:43:57.989578Z",
     "iopub.status.busy": "2023-07-16T21:43:57.988782Z",
     "iopub.status.idle": "2023-07-16T21:43:57.999030Z",
     "shell.execute_reply": "2023-07-16T21:43:57.997882Z",
     "shell.execute_reply.started": "2023-07-16T21:43:57.989542Z"
    }
   },
   "outputs": [],
   "source": [
    "class PolynomialKernel(Kernel):\n",
    "\n",
    "    def __init__(self):\n",
    "        super().__init__()\n",
    "        \n",
    "\n",
    "    def similarity(self, x, y, **kwargs):\n",
    "        gamma=kwargs.get('gamma')\n",
    "        degree=kwargs.get('degree')\n",
    "        coef=kwargs.get('coef')\n",
    "        coef0=kwargs.get('coef0')\n",
    "        \"\"\" polynomial kernel : k(x,y) = (gamma <x,y> + r)^d \\\\\n",
    "        x, y: array (n_features,)\n",
    "        \"\"\"\n",
    "        return (gamma * np.dot(x,y) + coef0)**degree \n",
    "\n",
    "\n",
    "    "
   ]
  },
  {
   "cell_type": "code",
   "execution_count": 61,
   "metadata": {},
   "outputs": [],
   "source": [
    "# polynomial and gaussian\n",
    "\n",
    "\n",
    "class PolynomialKernelGaussian(Kernel):\n",
    "\n",
    "    def __init__(self):\n",
    "        print(\"entre dans polyGaussian\")\n",
    "        super().__init__()\n",
    "        \n",
    "\n",
    "    def similarity(self, x, y, **kwargs):\n",
    "        \n",
    "        gamma=kwargs.get('gamma')\n",
    "        degree=kwargs.get('degree')\n",
    "        coef=kwargs.get('coef')\n",
    "        coef0=kwargs.get('coef0')\n",
    "        \"\"\" polynomial kernel : k(x,y) = (gamma <x,y> + r)^d \\\\\n",
    "        x, y: array (n_features,)\n",
    "        \"\"\"\n",
    "        return  0.5*((gamma * np.dot(x,y) + coef0)**degree) + 0.8*(np.exp(-np.linalg.norm(x-y)**2 / (2 * sigma**2)))+2*(x.T@y)\n"
   ]
  },
  {
   "cell_type": "code",
   "execution_count": 62,
   "metadata": {},
   "outputs": [],
   "source": [
    "class SpectrumKernel(Kernel):\n",
    "\n",
    "    def __init__(self):\n",
    "        super().__init__()\n",
    "       \n",
    "\n",
    "    def similarity(self, x, y,**kwargs):\n",
    "        \"\"\" Spectrum kernel \\\\\n",
    "        x, y: string\n",
    "        \"\"\"\n",
    "        k=kwargs.get('k')\n",
    "        substr_x, counts_x = np.unique([x[i:i+k] for i in range(len(x)-k+1)], return_counts=True)\n",
    "        return np.sum(np.char.count(y, substr_x)*counts_x)\n"
   ]
  },
  {
   "cell_type": "markdown",
   "metadata": {},
   "source": [
    "SVM implementation \n"
   ]
  },
  {
   "cell_type": "code",
   "execution_count": null,
   "metadata": {},
   "outputs": [],
   "source": [
    "\n",
    "\n"
   ]
  },
  {
   "cell_type": "markdown",
   "metadata": {},
   "source": [
    "# ****HERE WE MAKE A CLASSIFICATION USING SVM KERNALIZATION****"
   ]
  },
  {
   "cell_type": "code",
   "execution_count": 63,
   "metadata": {
    "execution": {
     "iopub.execute_input": "2023-07-16T21:43:58.001288Z",
     "iopub.status.busy": "2023-07-16T21:43:58.000812Z",
     "iopub.status.idle": "2023-07-16T21:43:58.016930Z",
     "shell.execute_reply": "2023-07-16T21:43:58.016027Z",
     "shell.execute_reply.started": "2023-07-16T21:43:58.001255Z"
    }
   },
   "outputs": [
    {
     "name": "stdout",
     "output_type": "stream",
     "text": [
      "entre dans polyGaussian\n"
     ]
    }
   ],
   "source": [
    "class KernelMethodBase(object):\n",
    "    '''\n",
    "    Base class for kernel methods models\n",
    "\n",
    "    Methods\n",
    "    ----\n",
    "    fit\n",
    "    predict\n",
    "    fit_K\n",
    "    predict_K\n",
    "    '''\n",
    "    kernels_ = {\n",
    "        'linear': LinearKernels(),\n",
    "        'rbf': GaussianKernel(),\n",
    "        'poly':PolynomialKernel(),\n",
    "        'poly_gaussian':PolynomialKernelGaussian(),\n",
    "        'spectrum': SpectrumKernel(),\n",
    "    }\n",
    "    \n",
    "        # 'mismatch': mismatch_kernel,\n",
    "    \n",
    "    def __init__(self, kernel='linear', **kwargs):\n",
    "        print(kernel)\n",
    "        self.kernel_name = kernel\n",
    "        self.kernel_function_ = self.kernels_[kernel].gram_matrix\n",
    "        self.kernel_parameters = self.get_kernel_parameters(**kwargs)\n",
    "        self.fit_intercept_ = False\n",
    "\n",
    "    def get_kernel_parameters(self, **kwargs):\n",
    "        #'linear' 'rbf', 'poly', 'spectrum', 'mismatch' or 'sum' \n",
    "        gamma = 10.0\n",
    "        sigma=np.sqrt(0.5/gamma)\n",
    "        C = 5.0 #Parameter C for SVM\n",
    "         #Parameter gamma for SVM (only for 'rbf' or 'poly')\n",
    "        coef0 = 1.0 #Parameter coef0 for SVM (only for 'poly')\n",
    "        degree = 3 \n",
    "        params = {}\n",
    "        if self.kernel_name == 'rbf':\n",
    "            params['sigma'] = kwargs.get('sigma', sigma)\n",
    "            params['normalize']=kwargs.get('normalize', True)\n",
    "        if self.kernel_name == 'poly':\n",
    "            params['degree'] = kwargs.get('degree', 10)\n",
    "            params['coef'] = kwargs.get('coef', 5)\n",
    "            params['coef0'] = kwargs.get('coef0', 1)\n",
    "            params['gamma'] = kwargs.get('gamma', 10)\n",
    "        if self.kernel_name == 'poly_gaussian':\n",
    "            params['sigma'] = kwargs.get('sigma', sigma)\n",
    "            params['degree'] = kwargs.get('degree', 3)\n",
    "            params['coef'] = kwargs.get('coef', 3)\n",
    "            params['coef0'] = kwargs.get('coef0', 1)\n",
    "            params['gamma'] = kwargs.get('gamma', 10)\n",
    "        if self.kernel_name == 'spectrum':\n",
    "            params['k'] = kwargs.get('k', 12)\n",
    "            \n",
    "        return params\n",
    "\n",
    "    def fit_K(self, K, y, **kwargs):\n",
    "        \"\"\"Finds optimal parameters from K(X_train, X_train) and y.\"\"\"\n",
    "        pass\n",
    "        \n",
    "\n",
    "\n",
    "    def decision_function_K(self, K):\n",
    "        \"\"\"Returns decision values from K(X, X_train).\"\"\"\n",
    "        pass\n",
    "\n",
    "    def fit(self, X, y, fit_intercept=False, **kwargs):\n",
    "\n",
    "        if fit_intercept:\n",
    "            X = add_column_ones(X)\n",
    "            self.fit_intercept_ = True\n",
    "        self.X_train = X\n",
    "        self.y_train = y\n",
    "\n",
    "        K = self.kernel_function_(self.X_train, self.X_train, **self.kernel_parameters)\n",
    "        print(f'shape of k{K.shape}')\n",
    "    \n",
    "\n",
    "        return self.fit_K(K, y, **kwargs)\n",
    "\n",
    "    def decision_function(self, X):\n",
    "\n",
    "        if self.fit_intercept_:\n",
    "            X = add_column_ones(X)\n",
    "\n",
    "        K_x = self.kernel_function_(X, self.X_train, **self.kernel_parameters)\n",
    "        print(f'shape of kx{K_x.shape}')\n",
    "       \n",
    "        return self.decision_function_K(K_x)\n",
    "\n",
    "    def predict(self, X):\n",
    "        \"\"\"Predicts the labels (e.g. +/- 1 for classification) using the decision function.\"\"\"\n",
    "        pass\n",
    "    \n",
    "    def predict_K(self, K):\n",
    "        \"\"\"Predicts the labels (e.g. +/- 1 for classification) using the decision function.\"\"\"\n",
    "        pass"
   ]
  },
  {
   "cell_type": "code",
   "execution_count": 64,
   "metadata": {
    "execution": {
     "iopub.execute_input": "2023-07-16T21:43:58.018689Z",
     "iopub.status.busy": "2023-07-16T21:43:58.018263Z",
     "iopub.status.idle": "2023-07-16T21:44:09.449972Z",
     "shell.execute_reply": "2023-07-16T21:44:09.448820Z",
     "shell.execute_reply.started": "2023-07-16T21:43:58.018650Z"
    }
   },
   "outputs": [
    {
     "name": "stdout",
     "output_type": "stream",
     "text": [
      "Requirement already satisfied: cvxopt in /Users/armandine/anaconda3/lib/python3.10/site-packages (1.2.6)\r\n"
     ]
    }
   ],
   "source": [
    "!pip install cvxopt\n",
    "import cvxopt\n",
    "\n",
    "def cvxopt_qp(P, q, G, h, A, b):\n",
    "    P = .5 * (P + P.T)\n",
    "    cvx_matrices = [\n",
    "        cvxopt.matrix(M.astype(np.double)) if M is not None else None for M in [P, q, G, h, A, b]\n",
    "    ]\n",
    "    #cvxopt.solvers.options['show_progress'] = False\n",
    "    solution = cvxopt.solvers.qp(*cvx_matrices, options={'show_progress': False})\n",
    "    return np.array(solution['x']).flatten()\n",
    "\n",
    "solve_qp=cvxopt_qp\n"
   ]
  },
  {
   "cell_type": "code",
   "execution_count": 65,
   "metadata": {
    "execution": {
     "iopub.execute_input": "2023-07-16T21:44:09.452202Z",
     "iopub.status.busy": "2023-07-16T21:44:09.451819Z",
     "iopub.status.idle": "2023-07-16T21:44:09.460695Z",
     "shell.execute_reply": "2023-07-16T21:44:09.459733Z",
     "shell.execute_reply.started": "2023-07-16T21:44:09.452164Z"
    }
   },
   "outputs": [],
   "source": [
    "def svm_dual_soft_to_qp_kernel(K, y, C=1):\n",
    "    n = K.shape[0]\n",
    "    assert (len(y) == n)\n",
    "    \n",
    "    # Dual formulation, soft margin\n",
    "    #print(y)\n",
    "    print( (np.diag(y.squeeze())))\n",
    "    P =(np.diag(y.squeeze()))@K@(np.diag(y.squeeze()))\n",
    "\n",
    "    # As a regularization, we add epsilon * identity to P\n",
    "    eps = 1e-12\n",
    "    P += eps * np.eye(n)\n",
    "    q = - np.ones(n)\n",
    "    G = np.vstack([-np.eye(n), np.eye(n)])\n",
    "    h = np.hstack([np.zeros(n), C * np.ones(n)])\n",
    "    A = y.squeeze()[np.newaxis, :]\n",
    "    b = np.array([0.])\n",
    "  \n",
    "\n",
    "    \n",
    "    print(f\"shape of P{P.shape}\")\n",
    "    print(f\"shape of q{q.shape}\")\n",
    "    print(f\"shape of G{G.shape}\")\n",
    "    print(f\"shape of h{h.shape}\")\n",
    "    print(f\"shape of A{A.shape}\")\n",
    "    print(f\"shape of b{b.shape}\")\n",
    "    \n",
    "    return P, q, G, h, A, b\n"
   ]
  },
  {
   "cell_type": "code",
   "execution_count": 66,
   "metadata": {
    "execution": {
     "iopub.execute_input": "2023-07-16T21:44:09.462385Z",
     "iopub.status.busy": "2023-07-16T21:44:09.462080Z",
     "iopub.status.idle": "2023-07-16T21:44:09.474884Z",
     "shell.execute_reply": "2023-07-16T21:44:09.473912Z",
     "shell.execute_reply.started": "2023-07-16T21:44:09.462355Z"
    }
   },
   "outputs": [],
   "source": [
    "class KernelSVM(KernelMethodBase):\n",
    "    '''\n",
    "    Kernel SVM Classification\n",
    "    \n",
    "    Methods\n",
    "    ----\n",
    "    fit\n",
    "    predict\n",
    "    '''\n",
    "    def __init__(self, C=0.1, **kwargs):\n",
    "        self.C = C\n",
    "        super().__init__(**kwargs)\n",
    "    \n",
    "    def fit_K(self, K, y, tol=1e-3):\n",
    "        # Solve dual problem\n",
    "        self.alpha = solve_qp(*svm_dual_soft_to_qp_kernel(K, y, C=self.C))\n",
    "        \n",
    "        \n",
    "        print(f'shape of alpha{self.alpha.shape}')\n",
    "        # Compute support vectors and bias b\n",
    "        sv = np.logical_and((self.alpha > tol), (self.C - self.alpha > tol))\n",
    "        self.bias = y[sv] - K[sv].dot(self.alpha * y)\n",
    "        self.bias = self.bias.mean()\n",
    "\n",
    "        self.support_vector_indices = np.nonzero(sv)[0]\n",
    "        \n",
    "        return self\n",
    "        \n",
    "    def decision_function_K(self, K_x):\n",
    "        print(f'alphay {(self.alpha*self.y_train).shape}')\n",
    "        return K_x.dot(self.alpha.reshape(-1,1)*self.y_train.reshape(-1,1)) + self.bias\n",
    "\n",
    "    def predict(self, X):\n",
    "         return np.sign(self.decision_function(X))"
   ]
  },
  {
   "cell_type": "code",
   "execution_count": null,
   "metadata": {},
   "outputs": [],
   "source": []
  },
  {
   "cell_type": "code",
   "execution_count": null,
   "metadata": {},
   "outputs": [],
   "source": []
  },
  {
   "cell_type": "markdown",
   "metadata": {},
   "source": [
    "# ****Hyperparameters tunning****"
   ]
  },
  {
   "cell_type": "code",
   "execution_count": 67,
   "metadata": {
    "execution": {
     "iopub.execute_input": "2023-07-16T21:44:09.476922Z",
     "iopub.status.busy": "2023-07-16T21:44:09.476294Z",
     "iopub.status.idle": "2023-07-16T21:44:09.485267Z",
     "shell.execute_reply": "2023-07-16T21:44:09.484238Z",
     "shell.execute_reply.started": "2023-07-16T21:44:09.476886Z"
    }
   },
   "outputs": [],
   "source": [
    "# Prediction error\n",
    "def error(ypred, ytrue):\n",
    "    e = (ypred != ytrue).mean()\n",
    "    return e\n",
    "\n",
    "def add_column_ones(X):\n",
    "    n = X.shape[0]\n",
    "    return np.hstack([X, np.ones((n, 1))])"
   ]
  },
  {
   "cell_type": "code",
   "execution_count": 68,
   "metadata": {},
   "outputs": [
    {
     "name": "stdout",
     "output_type": "stream",
     "text": [
      "(1000, 100)\n"
     ]
    }
   ],
   "source": [
    "print(Xte0_mat100.shape)"
   ]
  },
  {
   "cell_type": "markdown",
   "metadata": {},
   "source": [
    "# prediction with k-mer"
   ]
  },
  {
   "cell_type": "code",
   "execution_count": 83,
   "metadata": {},
   "outputs": [
    {
     "name": "stdout",
     "output_type": "stream",
     "text": [
      "poly_gaussian\n",
      "(2000, 1)\n",
      "[1860  353 1333 ...  860 1459 1126]\n",
      "(1600, 9000)\n",
      "(1600, 1)\n",
      "shape of k(1600, 1600)\n",
      "[[ 1  0  0 ...  0  0  0]\n",
      " [ 0  1  0 ...  0  0  0]\n",
      " [ 0  0 -1 ...  0  0  0]\n",
      " ...\n",
      " [ 0  0  0 ... -1  0  0]\n",
      " [ 0  0  0 ...  0 -1  0]\n",
      " [ 0  0  0 ...  0  0  1]]\n",
      "shape of P(1600, 1600)\n",
      "shape of q(1600,)\n",
      "shape of G(3200, 1600)\n",
      "shape of h(3200,)\n",
      "shape of A(1, 1600)\n",
      "shape of b(1,)\n",
      "shape of alpha(1600,)\n",
      "shape of kx(400, 1600)\n",
      "alphay (1600, 1600)\n",
      "Test error: 46.50%\n",
      "(400, 1)\n"
     ]
    }
   ],
   "source": [
    "import tqdm as tqdm\n",
    "np.random.seed(42)\n",
    "kernel = 'poly_gaussian'\n",
    "\n",
    "sigma = 0.8\n",
    "gamma=9\n",
    "degree =2\n",
    "C =0.01\n",
    "k=12\n",
    "#tol = 1e-3\n",
    "tol = 1e-3\n",
    "#model0 = KernelSVM(C=C, kernel=kernel)\n",
    "\n",
    "model0 = KernelSVM(C=C, kernel=kernel,degree=degree,sigma=np.sqrt(0.5/gamma),gamma=gamma)\n",
    "\n",
    "\n",
    "print(Ytr0.shape)\n",
    "\n",
    "n,d=X_embd.shape\n",
    "idx=np.arange(n)\n",
    "idx=np.random.permutation(idx)\n",
    "print(idx)\n",
    "X_embd=X_embd[idx]\n",
    "Ytr0=Ytr0[idx]\n",
    "x=X_embd[:int(0.8*n)]\n",
    "\n",
    "print(x.shape)\n",
    "#y=np.where(Ytr0[int(0.8*n):]==0,-1,1)\n",
    "y=Ytr0[:int(0.8*n)]\n",
    "print(y.shape)\n",
    "model0.fit(x,y)\n",
    "ypred0=model0.predict(X_embd[int(0.8*n):])\n",
    "#plot_decision_function(model, Xtr1, Ytr1,\n",
    "                      # title='SVM {} Kernel'.format(kernel))\n",
    "print('Test error: {:.2%}'.format(error(ypred0, Ytr0[int(0.8*n):])))\n",
    "\n",
    "\n",
    "print(ypred0.shape)"
   ]
  },
  {
   "cell_type": "code",
   "execution_count": 46,
   "metadata": {},
   "outputs": [
    {
     "name": "stdout",
     "output_type": "stream",
     "text": [
      "poly_gaussian\n",
      "(2000, 1)\n",
      "(2000, 1)\n",
      "shape of k(1600, 1600)\n",
      "[[-1  0  0 ...  0  0  0]\n",
      " [ 0  1  0 ...  0  0  0]\n",
      " [ 0  0 -1 ...  0  0  0]\n",
      " ...\n",
      " [ 0  0  0 ... -1  0  0]\n",
      " [ 0  0  0 ...  0  1  0]\n",
      " [ 0  0  0 ...  0  0 -1]]\n",
      "shape of P(1600, 1600)\n",
      "shape of q(1600,)\n",
      "shape of G(3200, 1600)\n",
      "shape of h(3200,)\n",
      "shape of A(1, 1600)\n",
      "shape of b(1,)\n"
     ]
    },
    {
     "ename": "KeyboardInterrupt",
     "evalue": "",
     "output_type": "error",
     "traceback": [
      "\u001b[0;31m---------------------------------------------------------------------------\u001b[0m",
      "\u001b[0;31mKeyboardInterrupt\u001b[0m                         Traceback (most recent call last)",
      "Cell \u001b[0;32mIn[46], line 22\u001b[0m\n\u001b[1;32m     20\u001b[0m \u001b[38;5;66;03m#y=np.where(Ytr0[int(0.8*n):]==0,-1,1)\u001b[39;00m\n\u001b[1;32m     21\u001b[0m y\u001b[38;5;241m=\u001b[39mYtr0[:\u001b[38;5;28mint\u001b[39m(\u001b[38;5;241m0.8\u001b[39m\u001b[38;5;241m*\u001b[39mn)]\n\u001b[0;32m---> 22\u001b[0m \u001b[43mmodel0\u001b[49m\u001b[38;5;241;43m.\u001b[39;49m\u001b[43mfit\u001b[49m\u001b[43m(\u001b[49m\u001b[43mx\u001b[49m\u001b[43m,\u001b[49m\u001b[43my\u001b[49m\u001b[43m)\u001b[49m\n\u001b[1;32m     23\u001b[0m ypred0\u001b[38;5;241m=\u001b[39mmodel0\u001b[38;5;241m.\u001b[39mpredict(Xtr0_mat100[\u001b[38;5;28mint\u001b[39m(\u001b[38;5;241m0.8\u001b[39m\u001b[38;5;241m*\u001b[39mn):])\n\u001b[1;32m     24\u001b[0m \u001b[38;5;66;03m#ypred0=np.where(ypred0== 0,-1,1)\u001b[39;00m\n\u001b[1;32m     25\u001b[0m \u001b[38;5;66;03m#plot_decision_function(model, Xtr1, Ytr1,\u001b[39;00m\n\u001b[1;32m     26\u001b[0m                       \u001b[38;5;66;03m# title='SVM {} Kernel'.format(kernel))\u001b[39;00m\n",
      "Cell \u001b[0;32mIn[18], line 79\u001b[0m, in \u001b[0;36mKernelMethodBase.fit\u001b[0;34m(self, X, y, fit_intercept, **kwargs)\u001b[0m\n\u001b[1;32m     75\u001b[0m K \u001b[38;5;241m=\u001b[39m \u001b[38;5;28mself\u001b[39m\u001b[38;5;241m.\u001b[39mkernel_function_(\u001b[38;5;28mself\u001b[39m\u001b[38;5;241m.\u001b[39mX_train, \u001b[38;5;28mself\u001b[39m\u001b[38;5;241m.\u001b[39mX_train, \u001b[38;5;241m*\u001b[39m\u001b[38;5;241m*\u001b[39m\u001b[38;5;28mself\u001b[39m\u001b[38;5;241m.\u001b[39mkernel_parameters)\n\u001b[1;32m     76\u001b[0m \u001b[38;5;28mprint\u001b[39m(\u001b[38;5;124mf\u001b[39m\u001b[38;5;124m'\u001b[39m\u001b[38;5;124mshape of k\u001b[39m\u001b[38;5;132;01m{\u001b[39;00mK\u001b[38;5;241m.\u001b[39mshape\u001b[38;5;132;01m}\u001b[39;00m\u001b[38;5;124m'\u001b[39m)\n\u001b[0;32m---> 79\u001b[0m \u001b[38;5;28;01mreturn\u001b[39;00m \u001b[38;5;28;43mself\u001b[39;49m\u001b[38;5;241;43m.\u001b[39;49m\u001b[43mfit_K\u001b[49m\u001b[43m(\u001b[49m\u001b[43mK\u001b[49m\u001b[43m,\u001b[49m\u001b[43m \u001b[49m\u001b[43my\u001b[49m\u001b[43m,\u001b[49m\u001b[43m \u001b[49m\u001b[38;5;241;43m*\u001b[39;49m\u001b[38;5;241;43m*\u001b[39;49m\u001b[43mkwargs\u001b[49m\u001b[43m)\u001b[49m\n",
      "Cell \u001b[0;32mIn[21], line 16\u001b[0m, in \u001b[0;36mKernelSVM.fit_K\u001b[0;34m(self, K, y, tol)\u001b[0m\n\u001b[1;32m     14\u001b[0m \u001b[38;5;28;01mdef\u001b[39;00m \u001b[38;5;21mfit_K\u001b[39m(\u001b[38;5;28mself\u001b[39m, K, y, tol\u001b[38;5;241m=\u001b[39m\u001b[38;5;241m1e-3\u001b[39m):\n\u001b[1;32m     15\u001b[0m     \u001b[38;5;66;03m# Solve dual problem\u001b[39;00m\n\u001b[0;32m---> 16\u001b[0m     \u001b[38;5;28mself\u001b[39m\u001b[38;5;241m.\u001b[39malpha \u001b[38;5;241m=\u001b[39m \u001b[43msolve_qp\u001b[49m\u001b[43m(\u001b[49m\u001b[38;5;241;43m*\u001b[39;49m\u001b[43msvm_dual_soft_to_qp_kernel\u001b[49m\u001b[43m(\u001b[49m\u001b[43mK\u001b[49m\u001b[43m,\u001b[49m\u001b[43m \u001b[49m\u001b[43my\u001b[49m\u001b[43m,\u001b[49m\u001b[43m \u001b[49m\u001b[43mC\u001b[49m\u001b[38;5;241;43m=\u001b[39;49m\u001b[38;5;28;43mself\u001b[39;49m\u001b[38;5;241;43m.\u001b[39;49m\u001b[43mC\u001b[49m\u001b[43m)\u001b[49m\u001b[43m)\u001b[49m\n\u001b[1;32m     19\u001b[0m     \u001b[38;5;28mprint\u001b[39m(\u001b[38;5;124mf\u001b[39m\u001b[38;5;124m'\u001b[39m\u001b[38;5;124mshape of alpha\u001b[39m\u001b[38;5;132;01m{\u001b[39;00m\u001b[38;5;28mself\u001b[39m\u001b[38;5;241m.\u001b[39malpha\u001b[38;5;241m.\u001b[39mshape\u001b[38;5;132;01m}\u001b[39;00m\u001b[38;5;124m'\u001b[39m)\n\u001b[1;32m     20\u001b[0m     \u001b[38;5;66;03m# Compute support vectors and bias b\u001b[39;00m\n",
      "Cell \u001b[0;32mIn[19], line 10\u001b[0m, in \u001b[0;36mcvxopt_qp\u001b[0;34m(P, q, G, h, A, b)\u001b[0m\n\u001b[1;32m      6\u001b[0m cvx_matrices \u001b[38;5;241m=\u001b[39m [\n\u001b[1;32m      7\u001b[0m     cvxopt\u001b[38;5;241m.\u001b[39mmatrix(M\u001b[38;5;241m.\u001b[39mastype(np\u001b[38;5;241m.\u001b[39mdouble)) \u001b[38;5;28;01mif\u001b[39;00m M \u001b[38;5;129;01mis\u001b[39;00m \u001b[38;5;129;01mnot\u001b[39;00m \u001b[38;5;28;01mNone\u001b[39;00m \u001b[38;5;28;01melse\u001b[39;00m \u001b[38;5;28;01mNone\u001b[39;00m \u001b[38;5;28;01mfor\u001b[39;00m M \u001b[38;5;129;01min\u001b[39;00m [P, q, G, h, A, b]\n\u001b[1;32m      8\u001b[0m ]\n\u001b[1;32m      9\u001b[0m \u001b[38;5;66;03m#cvxopt.solvers.options['show_progress'] = False\u001b[39;00m\n\u001b[0;32m---> 10\u001b[0m solution \u001b[38;5;241m=\u001b[39m \u001b[43mcvxopt\u001b[49m\u001b[38;5;241;43m.\u001b[39;49m\u001b[43msolvers\u001b[49m\u001b[38;5;241;43m.\u001b[39;49m\u001b[43mqp\u001b[49m\u001b[43m(\u001b[49m\u001b[38;5;241;43m*\u001b[39;49m\u001b[43mcvx_matrices\u001b[49m\u001b[43m,\u001b[49m\u001b[43m \u001b[49m\u001b[43moptions\u001b[49m\u001b[38;5;241;43m=\u001b[39;49m\u001b[43m{\u001b[49m\u001b[38;5;124;43m'\u001b[39;49m\u001b[38;5;124;43mshow_progress\u001b[39;49m\u001b[38;5;124;43m'\u001b[39;49m\u001b[43m:\u001b[49m\u001b[43m \u001b[49m\u001b[38;5;28;43;01mFalse\u001b[39;49;00m\u001b[43m}\u001b[49m\u001b[43m)\u001b[49m\n\u001b[1;32m     11\u001b[0m \u001b[38;5;28;01mreturn\u001b[39;00m np\u001b[38;5;241m.\u001b[39marray(solution[\u001b[38;5;124m'\u001b[39m\u001b[38;5;124mx\u001b[39m\u001b[38;5;124m'\u001b[39m])\u001b[38;5;241m.\u001b[39mflatten()\n",
      "File \u001b[0;32m~/anaconda3/lib/python3.10/site-packages/cvxopt/coneprog.py:4485\u001b[0m, in \u001b[0;36mqp\u001b[0;34m(P, q, G, h, A, b, solver, kktsolver, initvals, **kwargs)\u001b[0m\n\u001b[1;32m   4475\u001b[0m         pinfres, dinfres \u001b[38;5;241m=\u001b[39m \u001b[38;5;28;01mNone\u001b[39;00m, \u001b[38;5;28;01mNone\u001b[39;00m\n\u001b[1;32m   4477\u001b[0m     \u001b[38;5;28;01mreturn\u001b[39;00m {\u001b[38;5;124m'\u001b[39m\u001b[38;5;124mstatus\u001b[39m\u001b[38;5;124m'\u001b[39m: status, \u001b[38;5;124m'\u001b[39m\u001b[38;5;124mx\u001b[39m\u001b[38;5;124m'\u001b[39m: x, \u001b[38;5;124m'\u001b[39m\u001b[38;5;124ms\u001b[39m\u001b[38;5;124m'\u001b[39m: s, \u001b[38;5;124m'\u001b[39m\u001b[38;5;124my\u001b[39m\u001b[38;5;124m'\u001b[39m: y, \u001b[38;5;124m'\u001b[39m\u001b[38;5;124mz\u001b[39m\u001b[38;5;124m'\u001b[39m: z,\n\u001b[1;32m   4478\u001b[0m         \u001b[38;5;124m'\u001b[39m\u001b[38;5;124mprimal objective\u001b[39m\u001b[38;5;124m'\u001b[39m: pcost, \u001b[38;5;124m'\u001b[39m\u001b[38;5;124mdual objective\u001b[39m\u001b[38;5;124m'\u001b[39m: dcost,\n\u001b[1;32m   4479\u001b[0m         \u001b[38;5;124m'\u001b[39m\u001b[38;5;124mgap\u001b[39m\u001b[38;5;124m'\u001b[39m: gap, \u001b[38;5;124m'\u001b[39m\u001b[38;5;124mrelative gap\u001b[39m\u001b[38;5;124m'\u001b[39m: relgap,\n\u001b[0;32m   (...)\u001b[0m\n\u001b[1;32m   4482\u001b[0m         \u001b[38;5;124m'\u001b[39m\u001b[38;5;124mresidual as primal infeasibility certificate\u001b[39m\u001b[38;5;124m'\u001b[39m: pinfres,\n\u001b[1;32m   4483\u001b[0m         \u001b[38;5;124m'\u001b[39m\u001b[38;5;124mresidual as dual infeasibility certificate\u001b[39m\u001b[38;5;124m'\u001b[39m: dinfres}\n\u001b[0;32m-> 4485\u001b[0m \u001b[38;5;28;01mreturn\u001b[39;00m \u001b[43mconeqp\u001b[49m\u001b[43m(\u001b[49m\u001b[43mP\u001b[49m\u001b[43m,\u001b[49m\u001b[43m \u001b[49m\u001b[43mq\u001b[49m\u001b[43m,\u001b[49m\u001b[43m \u001b[49m\u001b[43mG\u001b[49m\u001b[43m,\u001b[49m\u001b[43m \u001b[49m\u001b[43mh\u001b[49m\u001b[43m,\u001b[49m\u001b[43m \u001b[49m\u001b[38;5;28;43;01mNone\u001b[39;49;00m\u001b[43m,\u001b[49m\u001b[43m \u001b[49m\u001b[43mA\u001b[49m\u001b[43m,\u001b[49m\u001b[43m  \u001b[49m\u001b[43mb\u001b[49m\u001b[43m,\u001b[49m\u001b[43m \u001b[49m\u001b[43minitvals\u001b[49m\u001b[43m,\u001b[49m\u001b[43m \u001b[49m\u001b[43mkktsolver\u001b[49m\u001b[43m \u001b[49m\u001b[38;5;241;43m=\u001b[39;49m\u001b[43m \u001b[49m\u001b[43mkktsolver\u001b[49m\u001b[43m,\u001b[49m\u001b[43m \u001b[49m\u001b[43moptions\u001b[49m\u001b[43m \u001b[49m\u001b[38;5;241;43m=\u001b[39;49m\u001b[43m \u001b[49m\u001b[43moptions\u001b[49m\u001b[43m)\u001b[49m\n",
      "File \u001b[0;32m~/anaconda3/lib/python3.10/site-packages/cvxopt/coneprog.py:2256\u001b[0m, in \u001b[0;36mconeqp\u001b[0;34m(P, q, G, h, dims, A, b, initvals, kktsolver, xnewcopy, xdot, xaxpy, xscal, ynewcopy, ydot, yaxpy, yscal, **kwargs)\u001b[0m\n\u001b[1;32m   2244\u001b[0m misc\u001b[38;5;241m.\u001b[39mssqr(lmbdasq, lmbda, dims)\n\u001b[1;32m   2247\u001b[0m \u001b[38;5;66;03m# f3(x, y, z) solves\u001b[39;00m\n\u001b[1;32m   2248\u001b[0m \u001b[38;5;66;03m#\u001b[39;00m\n\u001b[1;32m   2249\u001b[0m \u001b[38;5;66;03m#    [ P   A'  G'    ] [ ux        ]   [ bx ]\u001b[39;00m\n\u001b[0;32m   (...)\u001b[0m\n\u001b[1;32m   2253\u001b[0m \u001b[38;5;66;03m# On entry, x, y, z containg bx, by, bz.\u001b[39;00m\n\u001b[1;32m   2254\u001b[0m \u001b[38;5;66;03m# On exit, they contain ux, uy, uz.\u001b[39;00m\n\u001b[0;32m-> 2256\u001b[0m \u001b[38;5;28;01mtry\u001b[39;00m: f3 \u001b[38;5;241m=\u001b[39m \u001b[43mkktsolver\u001b[49m\u001b[43m(\u001b[49m\u001b[43mW\u001b[49m\u001b[43m)\u001b[49m\n\u001b[1;32m   2257\u001b[0m \u001b[38;5;28;01mexcept\u001b[39;00m \u001b[38;5;167;01mArithmeticError\u001b[39;00m:\n\u001b[1;32m   2258\u001b[0m     \u001b[38;5;28;01mif\u001b[39;00m iters \u001b[38;5;241m==\u001b[39m \u001b[38;5;241m0\u001b[39m:\n",
      "File \u001b[0;32m~/anaconda3/lib/python3.10/site-packages/cvxopt/coneprog.py:1981\u001b[0m, in \u001b[0;36mconeqp.<locals>.kktsolver\u001b[0;34m(W)\u001b[0m\n\u001b[1;32m   1980\u001b[0m \u001b[38;5;28;01mdef\u001b[39;00m \u001b[38;5;21mkktsolver\u001b[39m(W):\n\u001b[0;32m-> 1981\u001b[0m     \u001b[38;5;28;01mreturn\u001b[39;00m \u001b[43mfactor\u001b[49m\u001b[43m(\u001b[49m\u001b[43mW\u001b[49m\u001b[43m,\u001b[49m\u001b[43m \u001b[49m\u001b[43mP\u001b[49m\u001b[43m)\u001b[49m\n",
      "File \u001b[0;32m~/anaconda3/lib/python3.10/site-packages/cvxopt/misc.py:1418\u001b[0m, in \u001b[0;36mkkt_chol2.<locals>.factor\u001b[0;34m(W, H, Df)\u001b[0m\n\u001b[1;32m   1414\u001b[0m \u001b[38;5;28;01mif\u001b[39;00m mnl: base\u001b[38;5;241m.\u001b[39mgemm(spmatrix(W[\u001b[38;5;124m'\u001b[39m\u001b[38;5;124mdnli\u001b[39m\u001b[38;5;124m'\u001b[39m], \u001b[38;5;28mlist\u001b[39m(\u001b[38;5;28mrange\u001b[39m(mnl)), \n\u001b[1;32m   1415\u001b[0m     \u001b[38;5;28mlist\u001b[39m(\u001b[38;5;28mrange\u001b[39m(mnl))), Df, F[\u001b[38;5;124m'\u001b[39m\u001b[38;5;124mDfs\u001b[39m\u001b[38;5;124m'\u001b[39m], partial \u001b[38;5;241m=\u001b[39m \u001b[38;5;28;01mTrue\u001b[39;00m)\n\u001b[1;32m   1417\u001b[0m \u001b[38;5;66;03m# Gs = Wl^{-1} * G.\u001b[39;00m\n\u001b[0;32m-> 1418\u001b[0m \u001b[43mbase\u001b[49m\u001b[38;5;241;43m.\u001b[39;49m\u001b[43mgemm\u001b[49m\u001b[43m(\u001b[49m\u001b[43mspmatrix\u001b[49m\u001b[43m(\u001b[49m\u001b[43mW\u001b[49m\u001b[43m[\u001b[49m\u001b[38;5;124;43m'\u001b[39;49m\u001b[38;5;124;43mdi\u001b[39;49m\u001b[38;5;124;43m'\u001b[39;49m\u001b[43m]\u001b[49m\u001b[43m,\u001b[49m\u001b[43m \u001b[49m\u001b[38;5;28;43mlist\u001b[39;49m\u001b[43m(\u001b[49m\u001b[38;5;28;43mrange\u001b[39;49m\u001b[43m(\u001b[49m\u001b[43mml\u001b[49m\u001b[43m)\u001b[49m\u001b[43m)\u001b[49m\u001b[43m,\u001b[49m\u001b[43m \u001b[49m\u001b[38;5;28;43mlist\u001b[39;49m\u001b[43m(\u001b[49m\u001b[38;5;28;43mrange\u001b[39;49m\u001b[43m(\u001b[49m\u001b[43mml\u001b[49m\u001b[43m)\u001b[49m\u001b[43m)\u001b[49m\u001b[43m)\u001b[49m\u001b[43m,\u001b[49m\u001b[43m \u001b[49m\n\u001b[1;32m   1419\u001b[0m \u001b[43m    \u001b[49m\u001b[43mG\u001b[49m\u001b[43m,\u001b[49m\u001b[43m \u001b[49m\u001b[43mF\u001b[49m\u001b[43m[\u001b[49m\u001b[38;5;124;43m'\u001b[39;49m\u001b[38;5;124;43mGs\u001b[39;49m\u001b[38;5;124;43m'\u001b[39;49m\u001b[43m]\u001b[49m\u001b[43m,\u001b[49m\u001b[43m \u001b[49m\u001b[43mpartial\u001b[49m\u001b[43m \u001b[49m\u001b[38;5;241;43m=\u001b[39;49m\u001b[43m \u001b[49m\u001b[38;5;28;43;01mTrue\u001b[39;49;00m\u001b[43m)\u001b[49m\n\u001b[1;32m   1421\u001b[0m \u001b[38;5;28;01mif\u001b[39;00m F[\u001b[38;5;124m'\u001b[39m\u001b[38;5;124mfirstcall\u001b[39m\u001b[38;5;124m'\u001b[39m]:\n\u001b[1;32m   1422\u001b[0m     base\u001b[38;5;241m.\u001b[39msyrk(F[\u001b[38;5;124m'\u001b[39m\u001b[38;5;124mGs\u001b[39m\u001b[38;5;124m'\u001b[39m], F[\u001b[38;5;124m'\u001b[39m\u001b[38;5;124mS\u001b[39m\u001b[38;5;124m'\u001b[39m], trans \u001b[38;5;241m=\u001b[39m \u001b[38;5;124m'\u001b[39m\u001b[38;5;124mT\u001b[39m\u001b[38;5;124m'\u001b[39m) \n",
      "\u001b[0;31mKeyboardInterrupt\u001b[0m: "
     ]
    }
   ],
   "source": [
    "import tqdm as tqdm\n",
    "\n",
    "kernel = 'poly_gaussian'\n",
    "\n",
    "#sigma = 0.8\n",
    "gamma=9\n",
    "degree =2\n",
    "C =0.01\n",
    "k=12\n",
    "tol = 1e-3\n",
    "#model0 = KernelSVM(C=C, kernel=kernel)\n",
    "\n",
    "model0 = KernelSVM(C=C, kernel=kernel,degree=degree,sigma=np.sqrt(0.5/gamma),gamma=gamma)\n",
    "\n",
    "ratio=5\n",
    "n,p=Xtr0_mat100.shape\n",
    "print(Ytr0.shape)\n",
    "print(Xtr0.shape)\n",
    "x=Xtr0_mat100[:int(0.8*n)]\n",
    "#y=np.where(Ytr0[int(0.8*n):]==0,-1,1)\n",
    "y=Ytr0[:int(0.8*n)]\n",
    "model0.fit(x,y)\n",
    "ypred0=model0.predict(Xtr0_mat100[int(0.8*n):])\n",
    "#ypred0=np.where(ypred0== 0,-1,1)\n",
    "#plot_decision_function(model, Xtr1, Ytr1,\n",
    "                      # title='SVM {} Kernel'.format(kernel))\n",
    "print('Test error: {:.2%}'.format(error(ypred0, Ytr0[int(0.8*n):])))\n",
    "\n",
    "\n",
    "print(ypred0.shape)"
   ]
  },
  {
   "cell_type": "markdown",
   "metadata": {},
   "source": [
    "# prediction on the dataset1"
   ]
  },
  {
   "cell_type": "code",
   "execution_count": 503,
   "metadata": {
    "execution": {
     "iopub.execute_input": "2023-07-16T21:44:09.487694Z",
     "iopub.status.busy": "2023-07-16T21:44:09.487345Z",
     "iopub.status.idle": "2023-07-16T21:44:11.283711Z",
     "shell.execute_reply": "2023-07-16T21:44:11.282146Z",
     "shell.execute_reply.started": "2023-07-16T21:44:09.487661Z"
    }
   },
   "outputs": [
    {
     "name": "stdout",
     "output_type": "stream",
     "text": [
      "poly_gaussian\n",
      "(2000, 1)\n",
      "(1000, 100)\n",
      "shape of k(2000, 2000)\n",
      "[[-1  0  0 ...  0  0  0]\n",
      " [ 0  1  0 ...  0  0  0]\n",
      " [ 0  0  1 ...  0  0  0]\n",
      " ...\n",
      " [ 0  0  0 ... -1  0  0]\n",
      " [ 0  0  0 ...  0 -1  0]\n",
      " [ 0  0  0 ...  0  0 -1]]\n",
      "shape of P(2000, 2000)\n",
      "shape of q(2000,)\n",
      "shape of G(4000, 2000)\n",
      "shape of h(4000,)\n",
      "shape of A(1, 2000)\n",
      "shape of b(1,)\n",
      "shape of alpha(2000,)\n",
      "shape of kx(1000, 2000)\n",
      "alphay (2000, 2000)\n",
      "arrive\n",
      "(1000, 1)\n"
     ]
    }
   ],
   "source": [
    "kernel = 'poly_gaussian'\n",
    "\n",
    "#sigma = 0.8\n",
    "gamma=9\n",
    "degree =2\n",
    "C =0.1\n",
    "k=12\n",
    "tol = 1e-3\n",
    "#model0 = KernelSVM(C=C, kernel=kernel)\n",
    "\n",
    "model1 = KernelSVM(C=C, kernel=kernel,degree=degree,sigma=np.sqrt(0.5/gamma),gamma=gamma)\n",
    "\n",
    "ratio=5\n",
    "#model0 = KernelSVM(C=C, kernel=kernel,degree=degree,sigma=np.sqrt(0.5/gamma))\n",
    "\n",
    "#model = KernelSVM(C=C, kernel=kernel,degree=degree)\n",
    "ratio=0.5\n",
    "n,p=Xtr0_mat100.shape\n",
    "print(Ytr0.shape)\n",
    "print(Xte0_mat100.shape)\n",
    "\n",
    "model1.fit(Xtr0_mat100, Ytr0)\n",
    "ypred1=model1.predict(Xte0_mat100)\n",
    "ypred1=np.where(ypred1==-1,0,1)\n",
    "y1=np.where(Ytr0==-1,0,1)\n",
    "print(\"arrive\")\n",
    "print(ypred1.shape)\n",
    "#plot_decision_function(model, Xtr1, Ytr1,\n",
    "                      # title='SVM {} Kernel'.format(kernel))\n",
    "#print('Test error: {:.2%}'.format(error(ypred1, y1)))"
   ]
  },
  {
   "cell_type": "code",
   "execution_count": null,
   "metadata": {},
   "outputs": [],
   "source": []
  },
  {
   "cell_type": "markdown",
   "metadata": {},
   "source": [
    "# prediction dataset2"
   ]
  },
  {
   "cell_type": "code",
   "execution_count": 498,
   "metadata": {},
   "outputs": [
    {
     "name": "stdout",
     "output_type": "stream",
     "text": [
      "poly_gaussian\n",
      "(2000, 1)\n",
      "(2000, 100)\n",
      "shape of k(2000, 2000)\n",
      "[[-1  0  0 ...  0  0  0]\n",
      " [ 0 -1  0 ...  0  0  0]\n",
      " [ 0  0  1 ...  0  0  0]\n",
      " ...\n",
      " [ 0  0  0 ...  1  0  0]\n",
      " [ 0  0  0 ...  0  1  0]\n",
      " [ 0  0  0 ...  0  0  1]]\n",
      "shape of P(2000, 2000)\n",
      "shape of q(2000,)\n",
      "shape of G(4000, 2000)\n",
      "shape of h(4000,)\n",
      "shape of A(1, 2000)\n",
      "shape of b(1,)\n",
      "shape of alpha(2000,)\n",
      "shape of kx(1000, 2000)\n",
      "alphay (2000, 2000)\n",
      "(1000, 1)\n"
     ]
    }
   ],
   "source": [
    "kernel = 'poly_gaussian'\n",
    "\n",
    "#sigma = 0.8\n",
    "gamma=9\n",
    "degree =2\n",
    "C =0.1\n",
    "k=12\n",
    "tol = 1e-3\n",
    "#model0 = KernelSVM(C=C, kernel=kernel)\n",
    "\n",
    "model2 = KernelSVM(C=C, kernel=kernel,degree=degree,sigma=np.sqrt(0.5/gamma),gamma=gamma)\n",
    "\n",
    "ratio=5\n",
    "#model = KernelSVM(C=C, kernel=kernel,degree=degree)\n",
    "ratio=0.5\n",
    "n,p=Xte1_mat100.shape\n",
    "print(Ytr1.shape)\n",
    "print(Xtr1_mat100.shape)\n",
    "\n",
    "model2.fit(Xtr1_mat100, Ytr1)\n",
    "#y_pred = model2.predict(Xtr1_mat100[int(0.8*n):])\n",
    "#y_pred=np.where(y_pred == -1, 0, 1)\n",
    "#y2=np.where(Ytr1[int(0.8*n):]==-1,0,1)\n",
    "#plot_decision_function(model, Xtr1, Ytr1,\n",
    "                      # title='SVM {} Kernel'.format(kernel))\n",
    "#print('Test error: {:.2%}'.format(error(y_pred, y2)))\n",
    "\n",
    "ypred2=model2.predict(Xte1_mat100)\n",
    "ypred2=np.where(ypred2==-1,0,1)\n",
    "y2=np.where(Ytr1==-1,0,1)\n",
    "print(ypred1.shape)"
   ]
  },
  {
   "cell_type": "markdown",
   "metadata": {},
   "source": [
    "# prediction dataset 3"
   ]
  },
  {
   "cell_type": "code",
   "execution_count": 499,
   "metadata": {},
   "outputs": [
    {
     "name": "stdout",
     "output_type": "stream",
     "text": [
      "poly_gaussian\n",
      "(2000, 1)\n",
      "(2000, 100)\n",
      "shape of k(2000, 2000)\n",
      "[[1 0 0 ... 0 0 0]\n",
      " [0 1 0 ... 0 0 0]\n",
      " [0 0 1 ... 0 0 0]\n",
      " ...\n",
      " [0 0 0 ... 1 0 0]\n",
      " [0 0 0 ... 0 1 0]\n",
      " [0 0 0 ... 0 0 1]]\n",
      "shape of P(2000, 2000)\n",
      "shape of q(2000,)\n",
      "shape of G(4000, 2000)\n",
      "shape of h(4000,)\n",
      "shape of A(1, 2000)\n",
      "shape of b(1,)\n",
      "shape of alpha(2000,)\n",
      "shape of kx(1000, 2000)\n",
      "alphay (2000, 2000)\n",
      "(1000, 1)\n"
     ]
    }
   ],
   "source": [
    "import tqdm as tqdm\n",
    "kernel = 'poly_gaussian'\n",
    "\n",
    "#sigma = 0.8\n",
    "gamma=9\n",
    "degree =2\n",
    "C =0.1\n",
    "k=12\n",
    "tol = 1e-3\n",
    "#model0 = KernelSVM(C=C, kernel=kernel)\n",
    "\n",
    "model3 = KernelSVM(C=C, kernel=kernel,degree=degree,sigma=np.sqrt(0.5/gamma),gamma=gamma)\n",
    "\n",
    "ratio=5\n",
    "#model = KernelSVM(C=C, kernel=kernel,degree=degree)\n",
    "ratio=0.5\n",
    "n,p=Xtr2_mat100.shape\n",
    "print(Ytr2.shape)\n",
    "print(Xtr2_mat100.shape)\n",
    "\n",
    "model3.fit(Xtr2_mat100, Ytr2)\n",
    "#y_pred = model3.predict(Xtr2_mat100[int(0.8*n):])\n",
    "#y_pred=np.where(y_pred == -1, 0, 1)\n",
    "#y3=np.where(Ytr2[int(0.8*n):]==-1,0,1)\n",
    "#plot_decision_function(model, Xtr1, Ytr1,\n",
    "                      # title='SVM {} Kernel'.format(kernel))\n",
    "#print('Test error: {:.2%}'.format(error(y_pred, y3)))\n",
    "\n",
    "ypred3=model3.predict(Xte2_mat100)\n",
    "ypred3=np.where(ypred3==-1,0,1)\n",
    "y3=np.where(Ytr2==-1,0,1)\n",
    "print(ypred3.shape)"
   ]
  },
  {
   "cell_type": "code",
   "execution_count": 500,
   "metadata": {},
   "outputs": [],
   "source": [
    "\n",
    "#ypred2= np.where(model2.predict(Xte1_mat100)== -1,0,1)\n",
    "#ypred3= np.where(model3.predict(Xte2_mat100)== -1,0,1)\n"
   ]
  },
  {
   "cell_type": "code",
   "execution_count": 501,
   "metadata": {},
   "outputs": [
    {
     "name": "stdout",
     "output_type": "stream",
     "text": [
      "(3000,)\n",
      "[1 1 1 ... 1 0 1]\n"
     ]
    }
   ],
   "source": [
    "\n",
    "pred = np.concatenate([ypred1.squeeze(),ypred2.squeeze(),ypred3.squeeze()])\n",
    "pred_df = pd.DataFrame()\n",
    "print(pred.shape)\n",
    "print(pred)\n",
    "pred_df['Bound'] = pred\n",
    "pred_df.index.name = 'Id'\n",
    "pred_df.to_csv('Yte_poly_gaussian_linear_kernel.csv', sep=',', header=True)\n"
   ]
  },
  {
   "cell_type": "code",
   "execution_count": null,
   "metadata": {},
   "outputs": [],
   "source": []
  },
  {
   "cell_type": "code",
   "execution_count": null,
   "metadata": {},
   "outputs": [],
   "source": []
  },
  {
   "cell_type": "code",
   "execution_count": null,
   "metadata": {},
   "outputs": [],
   "source": []
  }
 ],
 "metadata": {
  "kernelspec": {
   "display_name": "Python 3",
   "language": "python",
   "name": "python3"
  },
  "language_info": {
   "codemirror_mode": {
    "name": "ipython",
    "version": 3
   },
   "file_extension": ".py",
   "mimetype": "text/x-python",
   "name": "python",
   "nbconvert_exporter": "python",
   "pygments_lexer": "ipython3",
   "version": "3.9.6"
  },
  "vscode": {
   "interpreter": {
    "hash": "31f2aee4e71d21fbe5cf8b01ff0e069b9275f58929596ceb00d14d90e3e16cd6"
   }
  }
 },
 "nbformat": 4,
 "nbformat_minor": 4
}
